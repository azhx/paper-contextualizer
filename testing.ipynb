{
 "cells": [
  {
   "cell_type": "code",
   "execution_count": 1,
   "metadata": {},
   "outputs": [],
   "source": [
    "import requests\n",
    "import pandas as pd\n",
    "import json\n",
    "import spacy\n",
    "import numpy as np\n",
    "from collections import deque"
   ]
  },
  {
   "cell_type": "code",
   "execution_count": 121,
   "metadata": {},
   "outputs": [],
   "source": [
    "api_base = \"https://api.semanticscholar.org/v1/paper/\"\n",
    "arxiv_id = \"arXiv:1703.06870\"\n",
    "res = requests.get(api_base + arxiv_id) # be able to do this by doi as well, whatever.\n",
    "base_data = json.loads(res.text)"
   ]
  },
  {
   "cell_type": "code",
   "execution_count": 122,
   "metadata": {},
   "outputs": [
    {
     "data": {
      "text/plain": [
       "['abstract',\n",
       " 'arxivId',\n",
       " 'authors',\n",
       " 'citationVelocity',\n",
       " 'citations',\n",
       " 'corpusId',\n",
       " 'doi',\n",
       " 'fieldsOfStudy',\n",
       " 'influentialCitationCount',\n",
       " 'is_open_access',\n",
       " 'is_publisher_licensed',\n",
       " 'paperId',\n",
       " 'references',\n",
       " 'title',\n",
       " 'topics',\n",
       " 'url',\n",
       " 'venue',\n",
       " 'year']"
      ]
     },
     "execution_count": 122,
     "metadata": {},
     "output_type": "execute_result"
    }
   ],
   "source": [
    "list(base_data.keys())"
   ]
  },
  {
   "cell_type": "code",
   "execution_count": 124,
   "metadata": {},
   "outputs": [],
   "source": [
    "count = 0\n",
    "for each in base_data['citations']:\n",
    "    if each['isInfluential'] == True:\n",
    "        count +=1;\n"
   ]
  },
  {
   "cell_type": "code",
   "execution_count": 126,
   "metadata": {},
   "outputs": [],
   "source": [
    "count = 0\n",
    "for each in base_data['references']:\n",
    "    if each['isInfluential'] == True:\n",
    "        count +=1;\n"
   ]
  },
  {
   "cell_type": "code",
   "execution_count": 183,
   "metadata": {},
   "outputs": [
    {
     "data": {
      "text/plain": [
       "'ea99a5535388196d0d44be5b4d7dd02029a43bb2'"
      ]
     },
     "execution_count": 183,
     "metadata": {},
     "output_type": "execute_result"
    }
   ],
   "source": [
    "base_data['paperId']"
   ]
  },
  {
   "cell_type": "code",
   "execution_count": 182,
   "metadata": {},
   "outputs": [
    {
     "data": {
      "text/plain": [
       "6"
      ]
     },
     "execution_count": 182,
     "metadata": {},
     "output_type": "execute_result"
    }
   ],
   "source": [
    "count"
   ]
  },
  {
   "cell_type": "code",
   "execution_count": 159,
   "metadata": {},
   "outputs": [],
   "source": []
  },
  {
   "cell_type": "code",
   "execution_count": 10,
   "metadata": {},
   "outputs": [
    {
     "data": {
      "text/plain": [
       "array([0., 0., 0.])"
      ]
     },
     "execution_count": 10,
     "metadata": {},
     "output_type": "execute_result"
    }
   ],
   "source": [
    "np.zeros(3)"
   ]
  },
  {
   "cell_type": "code",
   "execution_count": 137,
   "metadata": {},
   "outputs": [],
   "source": [
    "a = [('2',1),('1',2)]"
   ]
  },
  {
   "cell_type": "code",
   "execution_count": 138,
   "metadata": {},
   "outputs": [],
   "source": [
    "a.sort(key=lambda tup: tup[1], reverse=True)\n"
   ]
  },
  {
   "cell_type": "code",
   "execution_count": 139,
   "metadata": {},
   "outputs": [],
   "source": [
    "for each in range (3):\n",
    "    a.append(('',0))"
   ]
  },
  {
   "cell_type": "code",
   "execution_count": 140,
   "metadata": {},
   "outputs": [
    {
     "name": "stdout",
     "output_type": "stream",
     "text": [
      "5\n"
     ]
    }
   ],
   "source": [
    "print(len(a))"
   ]
  },
  {
   "cell_type": "code",
   "execution_count": 152,
   "metadata": {},
   "outputs": [],
   "source": [
    "a = [(1,2,3)]"
   ]
  },
  {
   "cell_type": "code",
   "execution_count": 153,
   "metadata": {},
   "outputs": [],
   "source": [
    "b, c, d = a[0]"
   ]
  },
  {
   "cell_type": "code",
   "execution_count": 155,
   "metadata": {},
   "outputs": [
    {
     "data": {
      "text/plain": [
       "2"
      ]
     },
     "execution_count": 155,
     "metadata": {},
     "output_type": "execute_result"
    }
   ],
   "source": []
  },
  {
   "cell_type": "code",
   "execution_count": 141,
   "metadata": {},
   "outputs": [
    {
     "data": {
      "text/plain": [
       "[('1', 2), ('2', 1), ('', 0), ('', 0), ('', 0)]"
      ]
     },
     "execution_count": 141,
     "metadata": {},
     "output_type": "execute_result"
    }
   ],
   "source": [
    "a"
   ]
  },
  {
   "cell_type": "code",
   "execution_count": 144,
   "metadata": {},
   "outputs": [
    {
     "data": {
      "text/plain": [
       "[('1', 2), ('2', 1), ('', 0)]"
      ]
     },
     "execution_count": 144,
     "metadata": {},
     "output_type": "execute_result"
    }
   ],
   "source": [
    "a[:breadth]"
   ]
  },
  {
   "cell_type": "code",
   "execution_count": 56,
   "metadata": {},
   "outputs": [],
   "source": [
    "a = deque(a)"
   ]
  },
  {
   "cell_type": "code",
   "execution_count": 65,
   "metadata": {},
   "outputs": [
    {
     "name": "stdout",
     "output_type": "stream",
     "text": [
      "deque([])\n",
      "('', 0)\n"
     ]
    }
   ],
   "source": [
    "b = a.popleft()\n",
    "print(a)\n",
    "print(b)"
   ]
  },
  {
   "cell_type": "code",
   "execution_count": 70,
   "metadata": {},
   "outputs": [
    {
     "data": {
      "text/plain": [
       "deque([])"
      ]
     },
     "execution_count": 70,
     "metadata": {},
     "output_type": "execute_result"
    }
   ],
   "source": [
    "q"
   ]
  },
  {
   "cell_type": "code",
   "execution_count": 69,
   "metadata": {},
   "outputs": [],
   "source": [
    "q = deque()"
   ]
  },
  {
   "cell_type": "code",
   "execution_count": 192,
   "metadata": {},
   "outputs": [],
   "source": [
    "# influential references\n",
    "# find number of citations\n",
    "# get reference data from top 3 citations\n",
    "# add to layer\n",
    "#if link is highly influential, get it\n",
    "#if infcitcount within top n citations add link to tuple ,\n",
    "global q, breadth\n",
    "\n",
    "refdict = {\"arxivId\":[],\"authors\":[],\"citationVelocity\":[],\"num_citations\":[],\n",
    "           \"corpusId\":[],\"doi\":[],\"fieldsOfStudy\":[], \"influentialCitationCount\":[],\n",
    "           \"is_open_access\":[], \"is_publisher_licensed\":[],\"paperId\":[],\"num_references\":[],\n",
    "           \"title\":[],\"topics\":[],\"url\":[],\"venue\":[],\"year\":[], \"parent\": []}\n",
    "    \n",
    "\n",
    "def add_record(res, parent):\n",
    "    refdict['arxivId'].append(res['arxivId'])\n",
    "    refdict['authors'].append(res['authors'])\n",
    "    refdict['citationVelocity'].append(res['citationVelocity'])\n",
    "    refdict['num_citations'].append(len(res['citations']))\n",
    "    refdict['corpusId'].append(res['corpusId'])\n",
    "    refdict['doi'].append(res['doi'])\n",
    "    refdict['fieldsOfStudy'].append(res['fieldsOfStudy'])\n",
    "    refdict['influentialCitationCount'].append(res['influentialCitationCount'])\n",
    "    refdict['is_open_access'].append(res['is_open_access'])\n",
    "    refdict['paperId'].append(res['paperId'])\n",
    "    refdict['is_publisher_licensed'].append(res['is_publisher_licensed'])\n",
    "    refdict['num_references'].append(len(res['references']))\n",
    "    refdict['title'].append(res['title'])\n",
    "    refdict['topics'].append(res['topics'])\n",
    "    refdict['url'].append(res['url'])\n",
    "    refdict['venue'].append(res['venue'])\n",
    "    refdict['year'].append(res['year'])\n",
    "    refdict['parent'].append(parent)\n",
    "    return len(refdict['parent'])-1\n",
    "\n",
    "def resolve_accessor(res):\n",
    "    if res['arxivId'] == None:\n",
    "        if res['paperId'] == None:\n",
    "            if res['doi'] == None:\n",
    "                return(None)\n",
    "            else:\n",
    "                return(res['doi'])\n",
    "        else:\n",
    "            return(res['paperId'])\n",
    "    else:\n",
    "        return('arxiv:' + res['arxivId'])\n",
    "\n",
    "q = deque()\n",
    "breadth = 3\n",
    "max_depth = 2\n",
    "doi = \"arXiv:1703.06870\"\n",
    "def find_qualified_children(access, depth=0, parent =-1):\n",
    "    print('depth =', depth)\n",
    "    res = json.loads(requests.get(api_base+access).text)\n",
    "    parent = add_record(res, parent)\n",
    "    if depth == max_depth:\n",
    "        try:\n",
    "            nextaccess, _, depth, parent = q.popleft()\n",
    "            find_qualified_children(nextaccess, depth, parent)\n",
    "        except:\n",
    "            return\n",
    "        return\n",
    "    topnchildren = [('',-1)]*breadth\n",
    "    for ref in res['references']:\n",
    "        if ref['isInfluential'] == True:\n",
    "            child_accessor = resolve_accessor(ref)\n",
    "            if child_accessor == None:\n",
    "                print(\"skipped\")\n",
    "                continue\n",
    "            child = json.loads(requests.get(api_base+child_accessor).text)\n",
    "            try:\n",
    "                icc = child['influentialCitationCount']\n",
    "            except KeyError:\n",
    "                print(\"not in s2 database\")\n",
    "            topnchildren.append((child_accessor, icc, depth+1, parent))\n",
    "            topnchildren.sort(key=lambda tup: tup[1], reverse=True)\n",
    "            topnchildren = topnchildren[:breadth]\n",
    "    print('topn =', topnchildren, 'q length = ', len(q))\n",
    "    for each in topnchildren:\n",
    "        if each[0] != '':\n",
    "            print(f\"appended {each[0]}\")\n",
    "            q.append(each)\n",
    "    nextaccess, _, depth, parent = q.popleft() \n",
    "    find_qualified_children(nextaccess, depth, parent)\n",
    "    if len(q) == 0:\n",
    "        return\n",
    "    \n"
   ]
  },
  {
   "cell_type": "code",
   "execution_count": 193,
   "metadata": {},
   "outputs": [
    {
     "name": "stdout",
     "output_type": "stream",
     "text": [
      "depth = 0\n",
      "topn = [('10d85561e4aafc516d10064f30dff05b41f70afe', 2743, 1, 0), ('arxiv:1604.01685', 685, 1, 0), ('arxiv:1812.08008', 396, 1, 0)] q length =  0\n",
      "appended 10d85561e4aafc516d10064f30dff05b41f70afe\n",
      "appended arxiv:1604.01685\n",
      "appended arxiv:1812.08008\n",
      "depth = 1\n",
      "topn = [('', -1), ('', -1), ('', -1)] q length =  2\n",
      "depth = 1\n",
      "topn = [('arxiv:1506.01497', 3365, 2, 2), ('9201bf6f8222c2335913002e13fbac640fc0f4ec', 1924, 2, 2), ('arxiv:1405.0312', 1584, 2, 2)] q length =  1\n",
      "appended arxiv:1506.01497\n",
      "appended 9201bf6f8222c2335913002e13fbac640fc0f4ec\n",
      "appended arxiv:1405.0312\n",
      "depth = 1\n",
      "topn = [('arxiv:1512.03385', 8538, 2, 3), ('arxiv:1605.03170', 46, 2, 3), ('arxiv:1511.06645', 35, 2, 3)] q length =  3\n",
      "appended arxiv:1512.03385\n",
      "appended arxiv:1605.03170\n",
      "appended arxiv:1511.06645\n",
      "depth = 2\n",
      "depth = 2\n",
      "depth = 2\n",
      "depth = 2\n",
      "depth = 2\n",
      "depth = 2\n"
     ]
    }
   ],
   "source": [
    "find_qualified_children(doi)"
   ]
  },
  {
   "cell_type": "code",
   "execution_count": 194,
   "metadata": {},
   "outputs": [],
   "source": [
    "refs = pd.DataFrame.from_dict(refdict)"
   ]
  },
  {
   "cell_type": "code",
   "execution_count": 201,
   "metadata": {},
   "outputs": [],
   "source": [
    "refs.to_csv(\"graph.csv\", index = False)"
   ]
  },
  {
   "cell_type": "code",
   "execution_count": 147,
   "metadata": {},
   "outputs": [],
   "source": [
    "def recurse (level = 0):\n",
    "    print(level)\n",
    "    if level == 3:\n",
    "        return\n",
    "    for each in range (3):\n",
    "        recurse(level+1)\n",
    "        "
   ]
  },
  {
   "cell_type": "code",
   "execution_count": 148,
   "metadata": {},
   "outputs": [
    {
     "name": "stdout",
     "output_type": "stream",
     "text": [
      "0\n",
      "1\n",
      "2\n",
      "3\n",
      "3\n",
      "3\n",
      "2\n",
      "3\n",
      "3\n",
      "3\n",
      "2\n",
      "3\n",
      "3\n",
      "3\n",
      "1\n",
      "2\n",
      "3\n",
      "3\n",
      "3\n",
      "2\n",
      "3\n",
      "3\n",
      "3\n",
      "2\n",
      "3\n",
      "3\n",
      "3\n",
      "1\n",
      "2\n",
      "3\n",
      "3\n",
      "3\n",
      "2\n",
      "3\n",
      "3\n",
      "3\n",
      "2\n",
      "3\n",
      "3\n",
      "3\n"
     ]
    }
   ],
   "source": [
    "recurse()"
   ]
  },
  {
   "cell_type": "code",
   "execution_count": null,
   "metadata": {},
   "outputs": [],
   "source": []
  },
  {
   "cell_type": "code",
   "execution_count": null,
   "metadata": {},
   "outputs": [],
   "source": []
  },
  {
   "cell_type": "code",
   "execution_count": null,
   "metadata": {},
   "outputs": [],
   "source": []
  }
 ],
 "metadata": {
  "kernelspec": {
   "display_name": "Python 3",
   "language": "python",
   "name": "python3"
  },
  "language_info": {
   "codemirror_mode": {
    "name": "ipython",
    "version": 3
   },
   "file_extension": ".py",
   "mimetype": "text/x-python",
   "name": "python",
   "nbconvert_exporter": "python",
   "pygments_lexer": "ipython3",
   "version": "3.6.10"
  }
 },
 "nbformat": 4,
 "nbformat_minor": 4
}
